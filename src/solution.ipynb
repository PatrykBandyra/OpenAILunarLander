{
 "cells": [
  {
   "cell_type": "markdown",
   "source": [
    "### Imports"
   ],
   "metadata": {
    "collapsed": false
   }
  },
  {
   "cell_type": "code",
   "execution_count": 14,
   "outputs": [],
   "source": [
    "import gym\n",
    "import numpy as np\n",
    "import torch\n",
    "import matplotlib.pyplot as plt\n",
    "import random\n",
    "from agent import Agent\n",
    "from config import *"
   ],
   "metadata": {
    "collapsed": false,
    "pycharm": {
     "name": "#%%\n"
    }
   }
  },
  {
   "cell_type": "markdown",
   "source": [
    "### Set seeds"
   ],
   "metadata": {
    "collapsed": false
   }
  },
  {
   "cell_type": "code",
   "execution_count": 15,
   "outputs": [],
   "source": [
    "torch.manual_seed(SEED)  # Sets up seed for both devices\n",
    "np.random.seed(SEED)\n",
    "random.seed(SEED)"
   ],
   "metadata": {
    "collapsed": false,
    "pycharm": {
     "name": "#%%\n"
    }
   }
  },
  {
   "cell_type": "markdown",
   "source": [
    "### Ploting function"
   ],
   "metadata": {
    "collapsed": false
   }
  },
  {
   "cell_type": "code",
   "execution_count": 16,
   "outputs": [],
   "source": [
    "def plot(x, scores, epsilons, filename):\n",
    "    fig = plt.figure()\n",
    "    ax = fig.add_subplot(111, label=\"1\")\n",
    "    ax2 = fig.add_subplot(111, label=\"2\", frame_on=False)\n",
    "\n",
    "    ax.plot(x, epsilons, color=\"C0\")\n",
    "    ax.set_xlabel(\"Game\", color=\"C0\")\n",
    "    ax.set_ylabel(\"Epsilon\", color=\"C0\")\n",
    "    ax.tick_params(axis='x', colors=\"C0\")\n",
    "    ax.tick_params(axis='y', colors=\"C0\")\n",
    "\n",
    "    N = len(scores)\n",
    "    running_avg = np.empty(N)\n",
    "    for t in range(N):\n",
    "        running_avg[t] = np.mean(scores[max(0, t - 20):(t + 1)])\n",
    "\n",
    "    ax2.scatter(x, running_avg, color=\"C1\")\n",
    "    ax2.axes.get_xaxis().set_visible(False)\n",
    "    ax2.yaxis.tick_right()\n",
    "    ax2.set_ylabel('Score', color=\"C1\")\n",
    "    ax2.yaxis.set_label_position('right')\n",
    "    ax2.tick_params(axis='y', colors=\"C1\")\n",
    "\n",
    "    plt.savefig(filename)"
   ],
   "metadata": {
    "collapsed": false,
    "pycharm": {
     "name": "#%%\n"
    }
   }
  },
  {
   "cell_type": "markdown",
   "source": [
    "### Learning process"
   ],
   "metadata": {
    "collapsed": false
   }
  },
  {
   "cell_type": "code",
   "execution_count": 18,
   "outputs": [
    {
     "name": "stdout",
     "output_type": "stream",
     "text": [
      "Episode: 0; Score: -336.09; Avg score: -336.09; Eps: 1.0\n",
      "Episode: 5; Score: -142.0; Avg score: -142.62; Eps: 0.77\n",
      "Episode: 10; Score: 8.23; Avg score: -113.67; Eps: 0.4\n",
      "Episode: 15; Score: -8.13; Avg score: -118.76; Eps: 0.01\n",
      "Episode: 20; Score: -35.27; Avg score: -85.6; Eps: 0.01\n",
      "Episode: 25; Score: 40.36; Avg score: -71.18; Eps: 0.01\n",
      "Episode: 30; Score: -25.31; Avg score: -52.74; Eps: 0.01\n",
      "Episode: 35; Score: 311.29; Avg score: -43.59; Eps: 0.01\n",
      "Episode: 40; Score: -84.04; Avg score: -38.98; Eps: 0.01\n",
      "Episode: 45; Score: 43.92; Avg score: -34.6; Eps: 0.01\n",
      "Episode: 50; Score: 261.54; Avg score: -12.54; Eps: 0.01\n",
      "Episode: 55; Score: 250.84; Avg score: 11.28; Eps: 0.01\n",
      "Episode: 60; Score: 220.01; Avg score: 28.98; Eps: 0.01\n",
      "Episode: 65; Score: 176.33; Avg score: 44.67; Eps: 0.01\n",
      "Episode: 70; Score: 262.68; Avg score: 58.53; Eps: 0.01\n",
      "Episode: 75; Score: -28.38; Avg score: 67.71; Eps: 0.01\n",
      "Episode: 80; Score: 260.72; Avg score: 73.27; Eps: 0.01\n",
      "Episode: 85; Score: -32.21; Avg score: 78.1; Eps: 0.01\n",
      "Episode: 90; Score: 231.34; Avg score: 77.77; Eps: 0.01\n",
      "Episode: 95; Score: 256.73; Avg score: 79.85; Eps: 0.01\n",
      "Episode: 100; Score: 240.94; Avg score: 87.62; Eps: 0.01\n",
      "Episode: 105; Score: 191.33; Avg score: 98.72; Eps: 0.01\n",
      "Episode: 110; Score: 198.81; Avg score: 113.15; Eps: 0.01\n",
      "Episode: 115; Score: 190.56; Avg score: 131.76; Eps: 0.01\n",
      "Episode: 120; Score: -22.63; Avg score: 128.69; Eps: 0.01\n",
      "Episode: 125; Score: 245.68; Avg score: 135.73; Eps: 0.01\n",
      "Episode: 130; Score: 211.21; Avg score: 143.77; Eps: 0.01\n",
      "Episode: 135; Score: 12.39; Avg score: 150.35; Eps: 0.01\n",
      "Episode: 140; Score: -48.26; Avg score: 156.19; Eps: 0.01\n",
      "Episode: 145; Score: 231.95; Avg score: 165.94; Eps: 0.01\n",
      "Episode: 150; Score: 241.28; Avg score: 168.55; Eps: 0.01\n",
      "Episode: 155; Score: -14.32; Avg score: 165.4; Eps: 0.01\n",
      "Episode: 160; Score: 241.59; Avg score: 166.14; Eps: 0.01\n",
      "Episode: 165; Score: 265.11; Avg score: 162.09; Eps: 0.01\n",
      "Episode: 170; Score: 238.92; Avg score: 156.8; Eps: 0.01\n",
      "Episode: 175; Score: 254.33; Avg score: 156.92; Eps: 0.01\n",
      "Episode: 180; Score: 157.21; Avg score: 161.03; Eps: 0.01\n",
      "Episode: 185; Score: 254.7; Avg score: 165.4; Eps: 0.01\n",
      "Episode: 190; Score: 198.9; Avg score: 170.9; Eps: 0.01\n",
      "Episode: 195; Score: 213.36; Avg score: 172.4; Eps: 0.01\n",
      "Episode: 200; Score: 244.44; Avg score: 175.48; Eps: 0.01\n",
      "Episode: 205; Score: 212.65; Avg score: 177.43; Eps: 0.01\n",
      "Episode: 210; Score: 0.2; Avg score: 176.68; Eps: 0.01\n",
      "Episode: 215; Score: 230.06; Avg score: 174.38; Eps: 0.01\n",
      "Episode: 220; Score: 135.8; Avg score: 185.33; Eps: 0.01\n",
      "Episode: 225; Score: 270.54; Avg score: 182.47; Eps: 0.01\n",
      "Episode: 230; Score: -39.01; Avg score: 178.5; Eps: 0.01\n",
      "Episode: 235; Score: 238.74; Avg score: 176.31; Eps: 0.01\n",
      "Episode: 240; Score: 197.01; Avg score: 179.31; Eps: 0.01\n",
      "Episode: 245; Score: 224.95; Avg score: 176.73; Eps: 0.01\n",
      "Episode: 250; Score: 228.06; Avg score: 172.34; Eps: 0.01\n",
      "Episode: 255; Score: 287.4; Avg score: 171.48; Eps: 0.01\n",
      "Episode: 260; Score: 1.14; Avg score: 162.75; Eps: 0.01\n",
      "Episode: 265; Score: 186.67; Avg score: 161.59; Eps: 0.01\n",
      "Episode: 270; Score: 259.31; Avg score: 168.86; Eps: 0.01\n",
      "Episode: 275; Score: -9.75; Avg score: 162.72; Eps: 0.01\n",
      "Episode: 280; Score: 261.94; Avg score: 155.52; Eps: 0.01\n",
      "Episode: 285; Score: 252.08; Avg score: 154.24; Eps: 0.01\n",
      "Episode: 290; Score: 253.62; Avg score: 152.8; Eps: 0.01\n",
      "Episode: 295; Score: 277.06; Avg score: 159.16; Eps: 0.01\n",
      "Episode: 300; Score: 297.14; Avg score: 159.29; Eps: 0.01\n",
      "Episode: 305; Score: 266.34; Avg score: 164.62; Eps: 0.01\n",
      "Episode: 310; Score: 5.84; Avg score: 162.8; Eps: 0.01\n",
      "Episode: 315; Score: 224.98; Avg score: 165.61; Eps: 0.01\n",
      "Episode: 320; Score: 169.92; Avg score: 169.7; Eps: 0.01\n",
      "Episode: 325; Score: 258.22; Avg score: 179.1; Eps: 0.01\n",
      "Episode: 330; Score: 303.17; Avg score: 176.3; Eps: 0.01\n",
      "Episode: 335; Score: 303.3; Avg score: 177.21; Eps: 0.01\n",
      "Episode: 340; Score: -6.44; Avg score: 174.3; Eps: 0.01\n",
      "Episode: 345; Score: -17.81; Avg score: 172.4; Eps: 0.01\n",
      "Episode: 350; Score: 283.63; Avg score: 172.66; Eps: 0.01\n",
      "Episode: 355; Score: 269.68; Avg score: 171.78; Eps: 0.01\n",
      "Episode: 360; Score: 283.67; Avg score: 177.94; Eps: 0.01\n",
      "Episode: 365; Score: 16.01; Avg score: 182.11; Eps: 0.01\n",
      "Episode: 370; Score: 277.1; Avg score: 168.85; Eps: 0.01\n",
      "Episode: 375; Score: 248.87; Avg score: 173.14; Eps: 0.01\n",
      "Episode: 380; Score: 258.0; Avg score: 181.8; Eps: 0.01\n",
      "Episode: 385; Score: 248.88; Avg score: 184.89; Eps: 0.01\n",
      "Episode: 390; Score: 291.9; Avg score: 189.79; Eps: 0.01\n",
      "Episode: 395; Score: 248.63; Avg score: 184.75; Eps: 0.01\n",
      "Episode: 400; Score: 225.56; Avg score: 187.06; Eps: 0.01\n",
      "Episode: 405; Score: 26.85; Avg score: 184.85; Eps: 0.01\n",
      "Episode: 410; Score: 254.06; Avg score: 190.39; Eps: 0.01\n",
      "Episode: 415; Score: 33.92; Avg score: 184.25; Eps: 0.01\n",
      "Episode: 420; Score: 198.17; Avg score: 181.35; Eps: 0.01\n",
      "Episode: 425; Score: 42.78; Avg score: 178.9; Eps: 0.01\n",
      "Episode: 430; Score: 6.93; Avg score: 177.81; Eps: 0.01\n",
      "Episode: 435; Score: -20.85; Avg score: 174.25; Eps: 0.01\n",
      "Episode: 440; Score: 4.99; Avg score: 169.96; Eps: 0.01\n",
      "Episode: 445; Score: 298.48; Avg score: 173.39; Eps: 0.01\n",
      "Episode: 450; Score: 34.82; Avg score: 164.19; Eps: 0.01\n",
      "Episode: 455; Score: 241.7; Avg score: 156.87; Eps: 0.01\n",
      "Episode: 460; Score: 196.48; Avg score: 152.87; Eps: 0.01\n",
      "Episode: 465; Score: 53.58; Avg score: 147.3; Eps: 0.01\n",
      "Episode: 470; Score: 281.19; Avg score: 156.08; Eps: 0.01\n",
      "Episode: 475; Score: 4.98; Avg score: 154.31; Eps: 0.01\n",
      "Episode: 480; Score: 261.1; Avg score: 146.95; Eps: 0.01\n",
      "Episode: 485; Score: -17.56; Avg score: 138.66; Eps: 0.01\n",
      "Episode: 490; Score: 268.13; Avg score: 137.37; Eps: 0.01\n",
      "Episode: 495; Score: 289.77; Avg score: 142.98; Eps: 0.01\n"
     ]
    },
    {
     "data": {
      "text/plain": "<Figure size 432x288 with 2 Axes>",
      "image/png": "[encoded data removed]"
     },
     "metadata": {},
     "output_type": "display_data"
    }
   ],
   "source": [
    "env = gym.make('LunarLander-v2')\n",
    "env.seed(SEED)\n",
    "agent = Agent(gamma=GAMMA, eps=EPS, eps_min=EPS_MIN, eps_dec=EPS_DEC, lr=LEARNING_RATE, batch_size=BATCH_SIZE, n_actions=NUM_ENV_ACTIONS,\n",
    "              input_dims=NUM_ENV_VARIABLES, mem_size=MEMORY_SIZE)\n",
    "# agent.load_agent()\n",
    "agent.q_eval.train()\n",
    "scores, eps_history = [], []\n",
    "\n",
    "for i in range(N_GAMES):\n",
    "    score = 0\n",
    "    done = False  # Terminal state flag\n",
    "    observation = env.reset()\n",
    "    while not done:\n",
    "        action = agent.choose_action(observation)\n",
    "        observation_, reward, done, info = env.step(action)\n",
    "        score += reward\n",
    "        agent.store_transition(observation, action, reward, observation_, done)\n",
    "        agent.learn()\n",
    "        observation = observation_\n",
    "    scores.append(score)\n",
    "    eps_history.append(agent.eps)\n",
    "\n",
    "    if i % 5 == 0:\n",
    "        avg_score = np.mean(scores[-100:])\n",
    "        print(f'Episode: {i}; Score: {round(score, 2)}; Avg score: {round(avg_score, 2)}; Eps: {round(agent.eps, 2)}')\n",
    "\n",
    "x = [i + 1 for i in range(N_GAMES)]\n",
    "plot(x, scores, eps_history, 'lunar_lander_score_graph.png')"
   ],
   "metadata": {
    "collapsed": false,
    "pycharm": {
     "name": "#%%\n"
    }
   }
  },
  {
   "cell_type": "code",
   "execution_count": 19,
   "outputs": [],
   "source": [
    "agent.save_agent('_model2')"
   ],
   "metadata": {
    "collapsed": false,
    "pycharm": {
     "name": "#%%\n"
    }
   }
  }
 ],
 "metadata": {
  "kernelspec": {
   "display_name": "Python 3",
   "language": "python",
   "name": "python3"
  },
  "language_info": {
   "codemirror_mode": {
    "name": "ipython",
    "version": 2
   },
   "file_extension": ".py",
   "mimetype": "text/x-python",
   "name": "python",
   "nbconvert_exporter": "python",
   "pygments_lexer": "ipython2",
   "version": "2.7.6"
  }
 },
 "nbformat": 4,
 "nbformat_minor": 0
}