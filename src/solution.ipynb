{
 "cells": [
  {
   "cell_type": "markdown",
   "source": [
    "### Imports"
   ],
   "metadata": {
    "collapsed": false
   }
  },
  {
   "cell_type": "code",
   "execution_count": 16,
   "outputs": [],
   "source": [
    "import gym\n",
    "import numpy as np\n",
    "import torch\n",
    "import matplotlib.pyplot as plt\n",
    "import random\n",
    "from agent import Agent\n",
    "from config import *"
   ],
   "metadata": {
    "collapsed": false,
    "pycharm": {
     "name": "#%%\n"
    }
   }
  },
  {
   "cell_type": "markdown",
   "source": [
    "### Set seeds"
   ],
   "metadata": {
    "collapsed": false
   }
  },
  {
   "cell_type": "code",
   "execution_count": 19,
   "outputs": [],
   "source": [
    "torch.manual_seed(SEED)  # Sets up seed for both devices\n",
    "np.random.seed(SEED)\n",
    "random.seed(SEED)"
   ],
   "metadata": {
    "collapsed": false,
    "pycharm": {
     "name": "#%%\n"
    }
   }
  },
  {
   "cell_type": "markdown",
   "source": [
    "### Ploting function"
   ],
   "metadata": {
    "collapsed": false
   }
  },
  {
   "cell_type": "code",
   "execution_count": 22,
   "outputs": [],
   "source": [
    "def plot(x, scores, epsilons, filename):\n",
    "    fig = plt.figure()\n",
    "    ax = fig.add_subplot(111, label=\"1\")\n",
    "    ax2 = fig.add_subplot(111, label=\"2\", frame_on=False)\n",
    "\n",
    "    ax.plot(x, epsilons, color=\"C0\")\n",
    "    ax.set_xlabel(\"Game\", color=\"C0\")\n",
    "    ax.set_ylabel(\"Epsilon\", color=\"C0\")\n",
    "    ax.tick_params(axis='x', colors=\"C0\")\n",
    "    ax.tick_params(axis='y', colors=\"C0\")\n",
    "\n",
    "    N = len(scores)\n",
    "    running_avg = np.empty(N)\n",
    "    for t in range(N):\n",
    "        running_avg[t] = np.mean(scores[max(0, t - 20):(t + 1)])\n",
    "\n",
    "    ax2.scatter(x, running_avg, color=\"C1\")\n",
    "    ax2.axes.get_xaxis().set_visible(False)\n",
    "    ax2.yaxis.tick_right()\n",
    "    ax2.set_ylabel('Score', color=\"C1\")\n",
    "    ax2.yaxis.set_label_position('right')\n",
    "    ax2.tick_params(axis='y', colors=\"C1\")\n",
    "\n",
    "    plt.grid(visible=True)\n",
    "    plt.savefig(filename)"
   ],
   "metadata": {
    "collapsed": false,
    "pycharm": {
     "name": "#%%\n"
    }
   }
  },
  {
   "cell_type": "markdown",
   "source": [
    "### Learning process"
   ],
   "metadata": {
    "collapsed": false
   }
  },
  {
   "cell_type": "code",
   "execution_count": 24,
   "outputs": [
    {
     "name": "stdout",
     "output_type": "stream",
     "text": [
      "Episode: 0; Score: -299.06; Avg score: -299.06; Eps: 1.0\n",
      "Episode: 10; Score: -56.01; Avg score: -192.41; Eps: 0.41\n",
      "Episode: 20; Score: 76.52; Avg score: -109.75; Eps: 0.01\n",
      "Episode: 30; Score: 243.3; Avg score: -8.6; Eps: 0.01\n",
      "Episode: 40; Score: 209.37; Avg score: 50.7; Eps: 0.01\n",
      "Episode: 50; Score: 301.72; Avg score: 83.12; Eps: 0.01\n",
      "Episode: 60; Score: 13.98; Avg score: 87.15; Eps: 0.01\n",
      "Episode: 70; Score: 225.63; Avg score: 108.7; Eps: 0.01\n",
      "Episode: 80; Score: 220.37; Avg score: 112.47; Eps: 0.01\n",
      "Episode: 90; Score: -70.54; Avg score: 100.91; Eps: 0.01\n",
      "Episode: 100; Score: 303.13; Avg score: 106.01; Eps: 0.01\n",
      "Episode: 110; Score: 233.21; Avg score: 133.7; Eps: 0.01\n",
      "Episode: 120; Score: 279.68; Avg score: 148.21; Eps: 0.01\n",
      "Episode: 130; Score: 266.15; Avg score: 146.96; Eps: 0.01\n",
      "Episode: 140; Score: -36.12; Avg score: 138.0; Eps: 0.01\n",
      "Episode: 150; Score: -0.82; Avg score: 123.27; Eps: 0.01\n",
      "Episode: 160; Score: -56.37; Avg score: 121.25; Eps: 0.01\n",
      "Episode: 170; Score: 271.77; Avg score: 109.77; Eps: 0.01\n",
      "Episode: 180; Score: 269.2; Avg score: 107.21; Eps: 0.01\n",
      "Episode: 190; Score: -145.71; Avg score: 125.93; Eps: 0.01\n",
      "Episode: 200; Score: 217.75; Avg score: 128.04; Eps: 0.01\n",
      "Episode: 210; Score: 272.25; Avg score: 134.51; Eps: 0.01\n",
      "Episode: 220; Score: -28.94; Avg score: 128.53; Eps: 0.01\n",
      "Episode: 230; Score: -27.64; Avg score: 126.08; Eps: 0.01\n",
      "Episode: 240; Score: 0.82; Avg score: 124.64; Eps: 0.01\n",
      "Episode: 250; Score: 165.37; Avg score: 136.57; Eps: 0.01\n",
      "Episode: 260; Score: 260.11; Avg score: 135.04; Eps: 0.01\n",
      "Episode: 270; Score: -25.09; Avg score: 139.93; Eps: 0.01\n",
      "Episode: 280; Score: 224.19; Avg score: 142.99; Eps: 0.01\n",
      "Episode: 290; Score: 252.07; Avg score: 128.87; Eps: 0.01\n",
      "Episode: 300; Score: -34.91; Avg score: 127.74; Eps: 0.01\n",
      "Episode: 310; Score: 32.02; Avg score: 131.14; Eps: 0.01\n",
      "Episode: 320; Score: 267.74; Avg score: 140.2; Eps: 0.01\n",
      "Episode: 330; Score: 224.7; Avg score: 140.42; Eps: 0.01\n",
      "Episode: 340; Score: 15.33; Avg score: 136.42; Eps: 0.01\n",
      "Episode: 350; Score: -20.48; Avg score: 131.08; Eps: 0.01\n",
      "Episode: 360; Score: 259.22; Avg score: 137.85; Eps: 0.01\n",
      "Episode: 370; Score: 4.6; Avg score: 133.77; Eps: 0.01\n",
      "Episode: 380; Score: 243.25; Avg score: 130.85; Eps: 0.01\n",
      "Episode: 390; Score: 275.66; Avg score: 142.62; Eps: 0.01\n",
      "Episode: 400; Score: 251.68; Avg score: 149.06; Eps: 0.01\n",
      "Episode: 410; Score: 239.51; Avg score: 156.4; Eps: 0.01\n",
      "Episode: 420; Score: 265.42; Avg score: 161.29; Eps: 0.01\n",
      "Episode: 430; Score: 269.65; Avg score: 159.95; Eps: 0.01\n",
      "Episode: 440; Score: -2.88; Avg score: 154.69; Eps: 0.01\n",
      "Episode: 450; Score: -127.65; Avg score: 146.22; Eps: 0.01\n",
      "Episode: 460; Score: -89.82; Avg score: 142.32; Eps: 0.01\n",
      "Episode: 470; Score: 279.21; Avg score: 138.85; Eps: 0.01\n",
      "Episode: 480; Score: -170.23; Avg score: 134.67; Eps: 0.01\n",
      "Episode: 490; Score: 250.42; Avg score: 123.09; Eps: 0.01\n"
     ]
    },
    {
     "data": {
      "text/plain": "<Figure size 432x288 with 2 Axes>",
      "image/png": "[encoded data removed]"
     },
     "metadata": {},
     "output_type": "display_data"
    }
   ],
   "source": [
    "env = gym.make('LunarLander-v2')\n",
    "env.seed(SEED)\n",
    "agent = Agent(gamma=GAMMA, eps=EPS, eps_min=EPS_MIN, eps_dec=EPS_DEC, lr=LEARNING_RATE, batch_size=BATCH_SIZE, n_actions=NUM_ENV_ACTIONS,\n",
    "              input_dims=NUM_ENV_VARIABLES, mem_size=MEMORY_SIZE)\n",
    "scores, eps_history = [], []\n",
    "\n",
    "for i in range(N_GAMES):\n",
    "    score = 0\n",
    "    done = False  # Terminal state flag\n",
    "    observation = env.reset()\n",
    "    while not done:\n",
    "        action = agent.choose_action(observation)\n",
    "        observation_, reward, done, info = env.step(action)\n",
    "        score += reward\n",
    "        agent.store_transition(observation, action, reward, observation_, done)\n",
    "        agent.learn()\n",
    "        observation = observation_\n",
    "    scores.append(score)\n",
    "    eps_history.append(agent.eps)\n",
    "\n",
    "    if i % 10 == 0:\n",
    "        avg_score = np.mean(scores[-100:])\n",
    "        print(f'Episode: {i}; Score: {round(score, 2)}; Avg score: {round(avg_score, 2)}; Eps: {round(agent.eps, 2)}')\n",
    "\n",
    "x = [i + 1 for i in range(N_GAMES)]\n",
    "plot(x, scores, eps_history, 'lunar_lander_score_graph.png')"
   ],
   "metadata": {
    "collapsed": false,
    "pycharm": {
     "name": "#%%\n"
    }
   }
  },
  {
   "cell_type": "code",
   "execution_count": 25,
   "outputs": [],
   "source": [
    "agent.save_agent()"
   ],
   "metadata": {
    "collapsed": false,
    "pycharm": {
     "name": "#%%\n"
    }
   }
  }
 ],
 "metadata": {
  "kernelspec": {
   "display_name": "Python 3",
   "language": "python",
   "name": "python3"
  },
  "language_info": {
   "codemirror_mode": {
    "name": "ipython",
    "version": 2
   },
   "file_extension": ".py",
   "mimetype": "text/x-python",
   "name": "python",
   "nbconvert_exporter": "python",
   "pygments_lexer": "ipython2",
   "version": "2.7.6"
  }
 },
 "nbformat": 4,
 "nbformat_minor": 0
}